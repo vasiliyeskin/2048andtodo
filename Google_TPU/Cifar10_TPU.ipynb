{
  "nbformat": 4,
  "nbformat_minor": 0,
  "metadata": {
    "colab": {
      "name": "Cifar10-TPU.ipynb",
      "provenance": [],
      "collapsed_sections": [],
      "include_colab_link": true
    },
    "kernelspec": {
      "name": "python3",
      "display_name": "Python 3"
    },
    "accelerator": "TPU"
  },
  "cells": [
    {
      "cell_type": "markdown",
      "metadata": {
        "id": "view-in-github",
        "colab_type": "text"
      },
      "source": [
        "<a href=\"https://colab.research.google.com/github/vasiliyeskin/2048andtodo/blob/master/Google_TPU/Cifar10_TPU.ipynb\" target=\"_parent\"><img src=\"https://colab.research.google.com/assets/colab-badge.svg\" alt=\"Open In Colab\"/></a>"
      ]
    },
    {
      "cell_type": "markdown",
      "metadata": {
        "id": "ps6VA4r1C_wm",
        "colab_type": "text"
      },
      "source": [
        "# Обучаем нейронную сеть на тензорном процессоре Google TPU\n",
        "\n",
        "Этот ноутбук является частью учебного курса [Программирование глубоких нейронных сетей на Python](https://www.asozykin.ru/courses/nnpython).\n",
        "\n",
        "Чтобы запускать и редактировать код, сохраните копию этого ноутбука себе (File->Save a copy in Drive...). Свою копию вы сможете изменять и запускать.\n",
        "\n",
        "Не забудьте выбрать ускоритель TPU в меню Runtime -> Change runtime type -> Hardware accelerator -> TPU\n",
        "\n"
      ]
    },
    {
      "cell_type": "code",
      "metadata": {
        "id": "T6hmBuIyjRUu",
        "colab_type": "code",
        "colab": {}
      },
      "source": [
        "import numpy as np\n",
        "import tensorflow as tf\n",
        "import os\n",
        "from tensorflow.keras.datasets import cifar10\n",
        "from tensorflow.keras.models import Model\n",
        "from tensorflow.keras.layers import Dense, Flatten, Input\n",
        "from tensorflow.keras.layers import Dropout, BatchNormalization\n",
        "from tensorflow.keras.layers import Conv2D, MaxPooling2D\n",
        "from tensorflow.keras.preprocessing import image\n",
        "from google.colab import files\n",
        "import matplotlib.pyplot as plt\n",
        "%matplotlib inline "
      ],
      "execution_count": null,
      "outputs": []
    },
    {
      "cell_type": "code",
      "metadata": {
        "id": "PfEKaHglj2VL",
        "colab_type": "code",
        "colab": {}
      },
      "source": [
        "# Названия классов из набора данных CIFAR-10\n",
        "classes=['самолет', 'автомобиль', 'птица', 'кот', 'олень', 'собака', 'лягушка', 'лошадь', 'корабль', 'грузовик']"
      ],
      "execution_count": null,
      "outputs": []
    },
    {
      "cell_type": "markdown",
      "metadata": {
        "id": "kzQx_ZOZDNYV",
        "colab_type": "text"
      },
      "source": [
        "**Загружаем данные**"
      ]
    },
    {
      "cell_type": "code",
      "metadata": {
        "id": "ARLcknFUj4Oc",
        "colab_type": "code",
        "colab": {
          "base_uri": "https://localhost:8080/",
          "height": 51
        },
        "outputId": "ba02893f-75ed-44b3-b753-11916ec2aec1"
      },
      "source": [
        "(x_train, y_train), (x_test, y_test) = cifar10.load_data()"
      ],
      "execution_count": null,
      "outputs": [
        {
          "output_type": "stream",
          "text": [
            "Downloading data from https://www.cs.toronto.edu/~kriz/cifar-10-python.tar.gz\n",
            "170500096/170498071 [==============================] - 11s 0us/step\n"
          ],
          "name": "stdout"
        }
      ]
    },
    {
      "cell_type": "markdown",
      "metadata": {
        "id": "1EJSbfDoDrnV",
        "colab_type": "text"
      },
      "source": [
        "**Просмотр примеров данных**"
      ]
    },
    {
      "cell_type": "code",
      "metadata": {
        "id": "KCXgj92ckE-J",
        "colab_type": "code",
        "colab": {
          "base_uri": "https://localhost:8080/",
          "height": 303
        },
        "outputId": "831dcd9f-1d26-470e-ee95-8880f0f2ef22"
      },
      "source": [
        "n = 9544\n",
        "plt.imshow(x_train[n])\n",
        "plt.show()\n",
        "print(\"Номер класса:\", y_train[n])\n",
        "print(\"Тип объекта:\", classes[y_train[n][0]])"
      ],
      "execution_count": null,
      "outputs": [
        {
          "output_type": "display_data",
          "data": {
            "image/png": "[encoded data removed]",
            "text/plain": [
              "<Figure size 432x288 with 1 Axes>"
            ]
          },
          "metadata": {
            "tags": []
          }
        },
        {
          "output_type": "stream",
          "text": [
            "Номер класса: [4]\n",
            "Тип объекта: олень\n"
          ],
          "name": "stdout"
        }
      ]
    },
    {
      "cell_type": "markdown",
      "metadata": {
        "id": "mnT8h77PFLXu",
        "colab_type": "text"
      },
      "source": [
        "## Создаем нейронную сеть"
      ]
    },
    {
      "cell_type": "code",
      "metadata": {
        "id": "HFgP4qd9OXpj",
        "colab_type": "code",
        "colab": {}
      },
      "source": [
        "def create_model():\n",
        "    input_layer = Input(shape=(32, 32, 3), dtype=tf.float32, name='Input')\n",
        "    x = BatchNormalization()(input_layer)\n",
        "    x = Conv2D(32, (3, 3), padding='same', activation='relu')(x)\n",
        "    x = Conv2D(32, (3, 3), activation='relu', padding='same')(x)\n",
        "    x = MaxPooling2D(pool_size=(2, 2))(x)\n",
        "    x = Dropout(0.25)(x)\n",
        "    x = BatchNormalization()(x)\n",
        "    x = Conv2D(64, (3, 3), padding='same', activation='relu')(x)\n",
        "    x = Conv2D(64, (3, 3), activation='relu')(x)\n",
        "    x = MaxPooling2D(pool_size=(2, 2))(x)\n",
        "    x = Dropout(0.25)(x)\n",
        "    x = Flatten()(x)\n",
        "    x = Dense(512, activation='relu')(x)\n",
        "    x = Dropout(0.5)(x)\n",
        "    output_layer = Dense(10, activation='softmax')(x)\n",
        "    model = Model(inputs=[input_layer], outputs=[output_layer])\n",
        "    model.compile(\n",
        "        optimizer=tf.train.AdamOptimizer(0.001),\n",
        "        loss=tf.keras.losses.sparse_categorical_crossentropy,\n",
        "        metrics=['sparse_categorical_accuracy'])\n",
        "    return model   \n"
      ],
      "execution_count": null,
      "outputs": []
    },
    {
      "cell_type": "code",
      "metadata": {
        "id": "-BV8e77-VAXJ",
        "colab_type": "code",
        "colab": {}
      },
      "source": [
        "cpu_model = create_model()"
      ],
      "execution_count": null,
      "outputs": []
    },
    {
      "cell_type": "markdown",
      "metadata": {
        "id": "iZ8E1aF0FS1s",
        "colab_type": "text"
      },
      "source": [
        "**Преобразуем модель для TPU**"
      ]
    },
    {
      "cell_type": "code",
      "metadata": {
        "id": "V2cFxxKr84lQ",
        "colab_type": "code",
        "colab": {
          "base_uri": "https://localhost:8080/",
          "height": 34
        },
        "outputId": "0aaecc77-16c2-4852-c2a1-5a50ffc0c8ed"
      },
      "source": [
        "TPU_WORKER = 'grpc://' + os.environ['COLAB_TPU_ADDR']\n",
        "TPU_WORKER"
      ],
      "execution_count": null,
      "outputs": [
        {
          "output_type": "execute_result",
          "data": {
            "text/plain": [
              "'grpc://10.43.104.202:8470'"
            ]
          },
          "metadata": {
            "tags": []
          },
          "execution_count": 45
        }
      ]
    },
    {
      "cell_type": "code",
      "metadata": {
        "id": "V_4et84XWnwa",
        "colab_type": "code",
        "colab": {
          "base_uri": "https://localhost:8080/",
          "height": 319
        },
        "outputId": "b2ff1cec-6be6-48ba-a625-01dfdbb55b96"
      },
      "source": [
        "tf.logging.set_verbosity(tf.logging.INFO)\n",
        "tpu_model = tf.contrib.tpu.keras_to_tpu_model(\n",
        "    cpu_model,\n",
        "    strategy=tf.contrib.tpu.TPUDistributionStrategy(\n",
        "        tf.contrib.cluster_resolver.TPUClusterResolver(TPU_WORKER)))"
      ],
      "execution_count": null,
      "outputs": [
        {
          "output_type": "stream",
          "text": [
            "INFO:tensorflow:Querying Tensorflow master (b'grpc://10.43.104.202:8470') for TPU system metadata.\n",
            "INFO:tensorflow:Found TPU system:\n",
            "INFO:tensorflow:*** Num TPU Cores: 8\n",
            "INFO:tensorflow:*** Num TPU Workers: 1\n",
            "INFO:tensorflow:*** Num TPU Cores Per Worker: 8\n",
            "INFO:tensorflow:*** Available Device: _DeviceAttributes(/job:worker/replica:0/task:0/device:CPU:0, CPU, -1, 3267590316137591916)\n",
            "INFO:tensorflow:*** Available Device: _DeviceAttributes(/job:worker/replica:0/task:0/device:XLA_CPU:0, XLA_CPU, 17179869184, 3916881954810569215)\n",
            "INFO:tensorflow:*** Available Device: _DeviceAttributes(/job:worker/replica:0/task:0/device:XLA_GPU:0, XLA_GPU, 17179869184, 6251977381990629044)\n",
            "INFO:tensorflow:*** Available Device: _DeviceAttributes(/job:worker/replica:0/task:0/device:TPU:0, TPU, 17179869184, 17170865237517164401)\n",
            "INFO:tensorflow:*** Available Device: _DeviceAttributes(/job:worker/replica:0/task:0/device:TPU:1, TPU, 17179869184, 4566382914535265054)\n",
            "INFO:tensorflow:*** Available Device: _DeviceAttributes(/job:worker/replica:0/task:0/device:TPU:2, TPU, 17179869184, 18400779127424218946)\n",
            "INFO:tensorflow:*** Available Device: _DeviceAttributes(/job:worker/replica:0/task:0/device:TPU:3, TPU, 17179869184, 17875458770441907611)\n",
            "INFO:tensorflow:*** Available Device: _DeviceAttributes(/job:worker/replica:0/task:0/device:TPU:4, TPU, 17179869184, 8623049827518947606)\n",
            "INFO:tensorflow:*** Available Device: _DeviceAttributes(/job:worker/replica:0/task:0/device:TPU:5, TPU, 17179869184, 18101606869050133579)\n",
            "INFO:tensorflow:*** Available Device: _DeviceAttributes(/job:worker/replica:0/task:0/device:TPU:6, TPU, 17179869184, 2357658565392223673)\n",
            "INFO:tensorflow:*** Available Device: _DeviceAttributes(/job:worker/replica:0/task:0/device:TPU:7, TPU, 17179869184, 4370552458979622780)\n",
            "INFO:tensorflow:*** Available Device: _DeviceAttributes(/job:worker/replica:0/task:0/device:TPU_SYSTEM:0, TPU_SYSTEM, 17179869184, 9519699886745861286)\n",
            "WARNING:tensorflow:tpu_model (from tensorflow.contrib.tpu.python.tpu.keras_support) is experimental and may change or be removed at any time, and without warning.\n"
          ],
          "name": "stdout"
        }
      ]
    },
    {
      "cell_type": "code",
      "metadata": {
        "id": "sYrfLTHtmcps",
        "colab_type": "code",
        "colab": {
          "base_uri": "https://localhost:8080/",
          "height": 659
        },
        "outputId": "51f66da1-d032-43a4-88d9-7334296c4c97"
      },
      "source": [
        "tpu_model.summary()"
      ],
      "execution_count": null,
      "outputs": [
        {
          "output_type": "stream",
          "text": [
            "_________________________________________________________________\n",
            "Layer (type)                 Output Shape              Param #   \n",
            "=================================================================\n",
            "Input (InputLayer)           (None, 32, 32, 3)         0         \n",
            "_________________________________________________________________\n",
            "batch_normalization_8 (Batch (None, 32, 32, 3)         12        \n",
            "_________________________________________________________________\n",
            "conv2d_16 (Conv2D)           (None, 32, 32, 32)        896       \n",
            "_________________________________________________________________\n",
            "conv2d_17 (Conv2D)           (None, 32, 32, 32)        9248      \n",
            "_________________________________________________________________\n",
            "max_pooling2d_8 (MaxPooling2 (None, 16, 16, 32)        0         \n",
            "_________________________________________________________________\n",
            "dropout_12 (Dropout)         (None, 16, 16, 32)        0         \n",
            "_________________________________________________________________\n",
            "batch_normalization_9 (Batch (None, 16, 16, 32)        128       \n",
            "_________________________________________________________________\n",
            "conv2d_18 (Conv2D)           (None, 16, 16, 64)        18496     \n",
            "_________________________________________________________________\n",
            "conv2d_19 (Conv2D)           (None, 14, 14, 64)        36928     \n",
            "_________________________________________________________________\n",
            "max_pooling2d_9 (MaxPooling2 (None, 7, 7, 64)          0         \n",
            "_________________________________________________________________\n",
            "dropout_13 (Dropout)         (None, 7, 7, 64)          0         \n",
            "_________________________________________________________________\n",
            "flatten_4 (Flatten)          (None, 3136)              0         \n",
            "_________________________________________________________________\n",
            "dense_8 (Dense)              (None, 512)               1606144   \n",
            "_________________________________________________________________\n",
            "dropout_14 (Dropout)         (None, 512)               0         \n",
            "_________________________________________________________________\n",
            "dense_9 (Dense)              (None, 10)                5130      \n",
            "=================================================================\n",
            "Total params: 1,676,982\n",
            "Trainable params: 1,676,912\n",
            "Non-trainable params: 70\n",
            "_________________________________________________________________\n"
          ],
          "name": "stdout"
        }
      ]
    },
    {
      "cell_type": "markdown",
      "metadata": {
        "id": "Aq23si1YFYhF",
        "colab_type": "text"
      },
      "source": [
        "## Обучаем нейронную сеть"
      ]
    },
    {
      "cell_type": "code",
      "metadata": {
        "id": "kyH5Ec9RkznF",
        "colab_type": "code",
        "colab": {
          "base_uri": "https://localhost:8080/",
          "height": 1961
        },
        "outputId": "1032ac54-970a-4bd5-8ef3-bc278b56e893"
      },
      "source": [
        "history = tpu_model.fit(x_train, y_train,\n",
        "              batch_size=256*8,\n",
        "              epochs=50,\n",
        "              verbose=2)"
      ],
      "execution_count": null,
      "outputs": [
        {
          "output_type": "stream",
          "text": [
            "Epoch 1/50\n",
            "INFO:tensorflow:New input shapes; (re-)compiling: mode=train (# of cores 8), [TensorSpec(shape=(256,), dtype=tf.int32, name='core_id_40'), TensorSpec(shape=(256, 32, 32, 3), dtype=tf.float32, name='Input_70'), TensorSpec(shape=(256, 1), dtype=tf.float32, name='dense_9_target_30')]\n",
            "INFO:tensorflow:Overriding default placeholder.\n",
            "INFO:tensorflow:Remapping placeholder for Input\n",
            "INFO:tensorflow:Started compiling\n",
            "INFO:tensorflow:Finished compiling. Time elapsed: 4.763399839401245 secs\n",
            "INFO:tensorflow:Setting weights on TPU model.\n",
            "INFO:tensorflow:New input shapes; (re-)compiling: mode=train (# of cores 8), [TensorSpec(shape=(106,), dtype=tf.int32, name='core_id_40'), TensorSpec(shape=(106, 32, 32, 3), dtype=tf.float32, name='Input_70'), TensorSpec(shape=(106, 1), dtype=tf.float32, name='dense_9_target_30')]\n",
            "INFO:tensorflow:Overriding default placeholder.\n",
            "INFO:tensorflow:Remapping placeholder for Input\n",
            "INFO:tensorflow:Started compiling\n",
            "INFO:tensorflow:Finished compiling. Time elapsed: 3.8817954063415527 secs\n",
            " - 22s - loss: 2.3893 - sparse_categorical_accuracy: 0.1667\n",
            "Epoch 2/50\n",
            " - 5s - loss: 1.8358 - sparse_categorical_accuracy: 0.3169\n",
            "Epoch 3/50\n",
            " - 6s - loss: 1.5885 - sparse_categorical_accuracy: 0.4120\n",
            "Epoch 4/50\n",
            " - 6s - loss: 1.4239 - sparse_categorical_accuracy: 0.4789\n",
            "Epoch 5/50\n",
            " - 6s - loss: 1.3190 - sparse_categorical_accuracy: 0.5215\n",
            "Epoch 6/50\n",
            " - 6s - loss: 1.2443 - sparse_categorical_accuracy: 0.5506\n",
            "Epoch 7/50\n",
            " - 6s - loss: 1.1849 - sparse_categorical_accuracy: 0.5750\n",
            "Epoch 8/50\n",
            " - 6s - loss: 1.1402 - sparse_categorical_accuracy: 0.5924\n",
            "Epoch 9/50\n",
            " - 6s - loss: 1.1003 - sparse_categorical_accuracy: 0.6097\n",
            "Epoch 10/50\n",
            " - 6s - loss: 1.0620 - sparse_categorical_accuracy: 0.6236\n",
            "Epoch 11/50\n",
            " - 6s - loss: 1.0224 - sparse_categorical_accuracy: 0.6376\n",
            "Epoch 12/50\n",
            " - 6s - loss: 0.9877 - sparse_categorical_accuracy: 0.6492\n",
            "Epoch 13/50\n",
            " - 6s - loss: 0.9572 - sparse_categorical_accuracy: 0.6606\n",
            "Epoch 14/50\n",
            " - 6s - loss: 0.9268 - sparse_categorical_accuracy: 0.6708\n",
            "Epoch 15/50\n",
            " - 6s - loss: 0.9021 - sparse_categorical_accuracy: 0.6832\n",
            "Epoch 16/50\n",
            " - 6s - loss: 0.8736 - sparse_categorical_accuracy: 0.6930\n",
            "Epoch 17/50\n",
            " - 6s - loss: 0.8430 - sparse_categorical_accuracy: 0.7023\n",
            "Epoch 18/50\n",
            " - 6s - loss: 0.8254 - sparse_categorical_accuracy: 0.7096\n",
            "Epoch 19/50\n",
            " - 6s - loss: 0.8052 - sparse_categorical_accuracy: 0.7175\n",
            "Epoch 20/50\n",
            " - 6s - loss: 0.7905 - sparse_categorical_accuracy: 0.7218\n",
            "Epoch 21/50\n",
            " - 6s - loss: 0.7667 - sparse_categorical_accuracy: 0.7305\n",
            "Epoch 22/50\n",
            " - 6s - loss: 0.7475 - sparse_categorical_accuracy: 0.7364\n",
            "Epoch 23/50\n",
            " - 6s - loss: 0.7300 - sparse_categorical_accuracy: 0.7409\n",
            "Epoch 24/50\n",
            " - 6s - loss: 0.7219 - sparse_categorical_accuracy: 0.7465\n",
            "Epoch 25/50\n",
            " - 6s - loss: 0.6999 - sparse_categorical_accuracy: 0.7535\n",
            "Epoch 26/50\n",
            " - 6s - loss: 0.6802 - sparse_categorical_accuracy: 0.7589\n",
            "Epoch 27/50\n",
            " - 6s - loss: 0.6706 - sparse_categorical_accuracy: 0.7631\n",
            "Epoch 28/50\n",
            " - 6s - loss: 0.6563 - sparse_categorical_accuracy: 0.7670\n",
            "Epoch 29/50\n",
            " - 6s - loss: 0.6406 - sparse_categorical_accuracy: 0.7736\n",
            "Epoch 30/50\n",
            " - 6s - loss: 0.6291 - sparse_categorical_accuracy: 0.7768\n",
            "Epoch 31/50\n",
            " - 6s - loss: 0.6141 - sparse_categorical_accuracy: 0.7824\n",
            "Epoch 32/50\n",
            " - 6s - loss: 0.6000 - sparse_categorical_accuracy: 0.7867\n",
            "Epoch 33/50\n",
            " - 6s - loss: 0.5901 - sparse_categorical_accuracy: 0.7918\n",
            "Epoch 34/50\n",
            " - 6s - loss: 0.5777 - sparse_categorical_accuracy: 0.7961\n",
            "Epoch 35/50\n",
            " - 6s - loss: 0.5766 - sparse_categorical_accuracy: 0.7944\n",
            "Epoch 36/50\n",
            " - 6s - loss: 0.5607 - sparse_categorical_accuracy: 0.8032\n",
            "Epoch 37/50\n",
            " - 6s - loss: 0.5494 - sparse_categorical_accuracy: 0.8044\n",
            "Epoch 38/50\n",
            " - 6s - loss: 0.5407 - sparse_categorical_accuracy: 0.8060\n",
            "Epoch 39/50\n",
            " - 6s - loss: 0.5353 - sparse_categorical_accuracy: 0.8106\n",
            "Epoch 40/50\n",
            " - 5s - loss: 0.5161 - sparse_categorical_accuracy: 0.8169\n",
            "Epoch 41/50\n",
            " - 6s - loss: 0.5146 - sparse_categorical_accuracy: 0.8163\n",
            "Epoch 42/50\n",
            " - 6s - loss: 0.5018 - sparse_categorical_accuracy: 0.8243\n",
            "Epoch 43/50\n",
            " - 5s - loss: 0.4969 - sparse_categorical_accuracy: 0.8222\n",
            "Epoch 44/50\n",
            " - 6s - loss: 0.4865 - sparse_categorical_accuracy: 0.8261\n",
            "Epoch 45/50\n",
            " - 6s - loss: 0.4743 - sparse_categorical_accuracy: 0.8299\n",
            "Epoch 46/50\n",
            " - 6s - loss: 0.4734 - sparse_categorical_accuracy: 0.8304\n",
            "Epoch 47/50\n",
            " - 5s - loss: 0.4671 - sparse_categorical_accuracy: 0.8357\n",
            "Epoch 48/50\n",
            " - 6s - loss: 0.4623 - sparse_categorical_accuracy: 0.8350\n",
            "Epoch 49/50\n",
            " - 5s - loss: 0.4502 - sparse_categorical_accuracy: 0.8398\n",
            "Epoch 50/50\n",
            " - 6s - loss: 0.4357 - sparse_categorical_accuracy: 0.8437\n"
          ],
          "name": "stdout"
        }
      ]
    },
    {
      "cell_type": "markdown",
      "metadata": {
        "id": "bHssPqMqF9sv",
        "colab_type": "text"
      },
      "source": [
        "## Оцениваем качетсво обучения сети"
      ]
    },
    {
      "cell_type": "code",
      "metadata": {
        "id": "5y4AHwlNou5y",
        "colab_type": "code",
        "colab": {
          "base_uri": "https://localhost:8080/",
          "height": 228
        },
        "outputId": "bcbdb7f4-d02e-4501-d59f-abd7927facea"
      },
      "source": [
        "# Оцениваем качество обучения модели на тестовых данных\n",
        "scores = tpu_model.evaluate(x_test, y_test, verbose=0, batch_size=256 * 8)\n",
        "print(\"Доля верных ответов на тестовых данных: %.2f%%\" % (scores[1]*100))"
      ],
      "execution_count": null,
      "outputs": [
        {
          "output_type": "stream",
          "text": [
            "INFO:tensorflow:New input shapes; (re-)compiling: mode=eval (# of cores 8), [TensorSpec(shape=(256,), dtype=tf.int32, name='core_id_50'), TensorSpec(shape=(256, 32, 32, 3), dtype=tf.float32, name='Input_70'), TensorSpec(shape=(256, 1), dtype=tf.float32, name='dense_9_target_30')]\n",
            "INFO:tensorflow:Overriding default placeholder.\n",
            "INFO:tensorflow:Remapping placeholder for Input\n",
            "INFO:tensorflow:Started compiling\n",
            "INFO:tensorflow:Finished compiling. Time elapsed: 3.487222194671631 secs\n",
            "INFO:tensorflow:New input shapes; (re-)compiling: mode=eval (# of cores 8), [TensorSpec(shape=(226,), dtype=tf.int32, name='core_id_50'), TensorSpec(shape=(226, 32, 32, 3), dtype=tf.float32, name='Input_70'), TensorSpec(shape=(226, 1), dtype=tf.float32, name='dense_9_target_30')]\n",
            "INFO:tensorflow:Overriding default placeholder.\n",
            "INFO:tensorflow:Remapping placeholder for Input\n",
            "INFO:tensorflow:Started compiling\n",
            "INFO:tensorflow:Finished compiling. Time elapsed: 3.491135597229004 secs\n",
            "Доля верных ответов на тестовых данных: 80.02%\n"
          ],
          "name": "stdout"
        }
      ]
    },
    {
      "cell_type": "markdown",
      "metadata": {
        "id": "9Ax2lw6hRDlm",
        "colab_type": "text"
      },
      "source": [
        "## Сохраняем обученную нейронную сеть"
      ]
    },
    {
      "cell_type": "code",
      "metadata": {
        "id": "uQhkelwPQ_PE",
        "colab_type": "code",
        "colab": {
          "base_uri": "https://localhost:8080/",
          "height": 35
        },
        "outputId": "0cc96b1b-26d2-4c0f-b8be-d6c87ad5f677"
      },
      "source": [
        "tpu_model.save_weights(\"cifar10_model.h5\")"
      ],
      "execution_count": null,
      "outputs": [
        {
          "output_type": "stream",
          "text": [
            "INFO:tensorflow:Copying TPU weights to the CPU\n"
          ],
          "name": "stdout"
        }
      ]
    },
    {
      "cell_type": "code",
      "metadata": {
        "id": "bn4CEGiURBz7",
        "colab_type": "code",
        "colab": {
          "base_uri": "https://localhost:8080/",
          "height": 35
        },
        "outputId": "69c6c96c-28ec-4a5c-b573-af79e2289aed"
      },
      "source": [
        "!ls"
      ],
      "execution_count": null,
      "outputs": [
        {
          "output_type": "stream",
          "text": [
            "cifar10_model.h5  sample_data\n"
          ],
          "name": "stdout"
        }
      ]
    },
    {
      "cell_type": "markdown",
      "metadata": {
        "id": "kblP7dCr_e1p",
        "colab_type": "text"
      },
      "source": [
        "Скачиваем обученные веса на свой компьютер"
      ]
    },
    {
      "cell_type": "code",
      "metadata": {
        "id": "2fAeyQD7_eUA",
        "colab_type": "code",
        "colab": {}
      },
      "source": [
        "files.download(\"cifar10_model.h5\")"
      ],
      "execution_count": null,
      "outputs": []
    },
    {
      "cell_type": "markdown",
      "metadata": {
        "id": "CDf9Gw19GIGO",
        "colab_type": "text"
      },
      "source": [
        "## Применяем сеть для распознавания объектов на CPU"
      ]
    },
    {
      "cell_type": "markdown",
      "metadata": {
        "id": "RNR9JakGmVn9",
        "colab_type": "text"
      },
      "source": [
        "Создаем модель на CPU и загружаем веса в нее"
      ]
    },
    {
      "cell_type": "code",
      "metadata": {
        "id": "BhT4q6aqlm0s",
        "colab_type": "code",
        "colab": {}
      },
      "source": [
        "model = create_model()\n",
        "model.load_weights(\"cifar10_model.h5\")"
      ],
      "execution_count": null,
      "outputs": []
    },
    {
      "cell_type": "code",
      "metadata": {
        "id": "19hyzTlzl5fe",
        "colab_type": "code",
        "colab": {
          "base_uri": "https://localhost:8080/",
          "height": 659
        },
        "outputId": "2f90e971-775a-41c1-9fa5-810cb1e0dcb7"
      },
      "source": [
        "model.summary()"
      ],
      "execution_count": null,
      "outputs": [
        {
          "output_type": "stream",
          "text": [
            "_________________________________________________________________\n",
            "Layer (type)                 Output Shape              Param #   \n",
            "=================================================================\n",
            "Input (InputLayer)           (None, 32, 32, 3)         0         \n",
            "_________________________________________________________________\n",
            "batch_normalization_10 (Batc (None, 32, 32, 3)         12        \n",
            "_________________________________________________________________\n",
            "conv2d_20 (Conv2D)           (None, 32, 32, 32)        896       \n",
            "_________________________________________________________________\n",
            "conv2d_21 (Conv2D)           (None, 32, 32, 32)        9248      \n",
            "_________________________________________________________________\n",
            "max_pooling2d_10 (MaxPooling (None, 16, 16, 32)        0         \n",
            "_________________________________________________________________\n",
            "dropout_15 (Dropout)         (None, 16, 16, 32)        0         \n",
            "_________________________________________________________________\n",
            "batch_normalization_11 (Batc (None, 16, 16, 32)        128       \n",
            "_________________________________________________________________\n",
            "conv2d_22 (Conv2D)           (None, 16, 16, 64)        18496     \n",
            "_________________________________________________________________\n",
            "conv2d_23 (Conv2D)           (None, 14, 14, 64)        36928     \n",
            "_________________________________________________________________\n",
            "max_pooling2d_11 (MaxPooling (None, 7, 7, 64)          0         \n",
            "_________________________________________________________________\n",
            "dropout_16 (Dropout)         (None, 7, 7, 64)          0         \n",
            "_________________________________________________________________\n",
            "flatten_5 (Flatten)          (None, 3136)              0         \n",
            "_________________________________________________________________\n",
            "dense_10 (Dense)             (None, 512)               1606144   \n",
            "_________________________________________________________________\n",
            "dropout_17 (Dropout)         (None, 512)               0         \n",
            "_________________________________________________________________\n",
            "dense_11 (Dense)             (None, 10)                5130      \n",
            "=================================================================\n",
            "Total params: 1,676,982\n",
            "Trainable params: 1,676,912\n",
            "Non-trainable params: 70\n",
            "_________________________________________________________________\n"
          ],
          "name": "stdout"
        }
      ]
    },
    {
      "cell_type": "markdown",
      "metadata": {
        "id": "wFujwhUEGWOG",
        "colab_type": "text"
      },
      "source": [
        "**Просмотр изображения из набора данных для тестирования**"
      ]
    },
    {
      "cell_type": "code",
      "metadata": {
        "id": "bxaxjSOAGOPX",
        "colab_type": "code",
        "colab": {
          "base_uri": "https://localhost:8080/",
          "height": 267
        },
        "outputId": "8ee61d3b-22fa-4b85-f5d8-3c42ed1246e6"
      },
      "source": [
        "index=111\n",
        "plt.imshow(x_test[index])\n",
        "plt.show()"
      ],
      "execution_count": null,
      "outputs": [
        {
          "output_type": "display_data",
          "data": {
            "image/png": "[encoded data removed]",
            "text/plain": [
              "<matplotlib.figure.Figure at 0x7f2cdd33d978>"
            ]
          },
          "metadata": {
            "tags": []
          }
        }
      ]
    },
    {
      "cell_type": "markdown",
      "metadata": {
        "id": "ByO-DUMJGc32",
        "colab_type": "text"
      },
      "source": [
        "**Преобразование тестового изображения**"
      ]
    },
    {
      "cell_type": "code",
      "metadata": {
        "id": "kvZbyn6xGhUe",
        "colab_type": "code",
        "colab": {}
      },
      "source": [
        "x = x_test[index]\n",
        "x = np.expand_dims(x, axis=0)"
      ],
      "execution_count": null,
      "outputs": []
    },
    {
      "cell_type": "markdown",
      "metadata": {
        "id": "hxcp2FfPGog1",
        "colab_type": "text"
      },
      "source": [
        "**Запуск распознавания**"
      ]
    },
    {
      "cell_type": "code",
      "metadata": {
        "id": "Ap72-9_kNKU2",
        "colab_type": "code",
        "colab": {}
      },
      "source": [
        "prediction = model.predict(x)"
      ],
      "execution_count": null,
      "outputs": []
    },
    {
      "cell_type": "markdown",
      "metadata": {
        "id": "2Gldpmn2NQ6-",
        "colab_type": "text"
      },
      "source": [
        "**Печатаем результаты распознавания**"
      ]
    },
    {
      "cell_type": "code",
      "metadata": {
        "id": "P7opRiSZNUku",
        "colab_type": "code",
        "colab": {
          "base_uri": "https://localhost:8080/",
          "height": 87
        },
        "outputId": "ae33b5e5-d074-4dbc-c796-a73aed4da6a1"
      },
      "source": [
        "print(prediction)\n",
        "prediction = np.argmax(prediction)\n",
        "print(classes[prediction])"
      ],
      "execution_count": null,
      "outputs": [
        {
          "output_type": "stream",
          "text": [
            "[[9.81738389e-01 2.91262069e-07 1.82225723e-02 9.78524668e-07\n",
            "  5.89265142e-07 6.76223244e-10 1.03252004e-10 9.23009047e-09\n",
            "  3.71878523e-05 3.16599618e-08]]\n",
            "самолет\n"
          ],
          "name": "stdout"
        }
      ]
    },
    {
      "cell_type": "code",
      "metadata": {
        "id": "-UEPJpNFEYZr",
        "colab_type": "code",
        "colab": {
          "base_uri": "https://localhost:8080/",
          "height": 156
        },
        "outputId": "06ffdfe6-0faf-4662-f000-8d69d9f8526f"
      },
      "source": [
        "!df -h"
      ],
      "execution_count": null,
      "outputs": [
        {
          "output_type": "stream",
          "text": [
            "Filesystem      Size  Used Avail Use% Mounted on\n",
            "overlay          40G  7.6G   30G  21% /\n",
            "tmpfs           6.4G     0  6.4G   0% /dev\n",
            "tmpfs           6.4G     0  6.4G   0% /sys/fs/cgroup\n",
            "tmpfs           6.4G  4.0K  6.4G   1% /var/colab\n",
            "/dev/sda1        46G  9.0G   37G  20% /etc/hosts\n",
            "shm              64M     0   64M   0% /dev/shm\n",
            "tmpfs           6.4G     0  6.4G   0% /sys/firmware\n"
          ],
          "name": "stdout"
        }
      ]
    },
    {
      "cell_type": "markdown",
      "metadata": {
        "id": "JYmmJFtMgesG",
        "colab_type": "text"
      },
      "source": [
        "## Полезные ссылки\n",
        "\n",
        "1. Документация по TPU - https://cloud.google.com/tpu/\n",
        "2. Использование TPU в облаке Google - https://cloud.google.com/tpu/docs/tpus\n",
        "3. Пример использования Keras с TPU от Франсуа Шоле - https://colab.research.google.com/github/tensorflow/tpu/blob/master/tools/colab/fashion_mnist.ipynb#scrollTo=W7gMbs70GxA7"
      ]
    }
  ]
}