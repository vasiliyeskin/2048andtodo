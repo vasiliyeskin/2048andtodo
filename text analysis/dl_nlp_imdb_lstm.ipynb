{
  "nbformat": 4,
  "nbformat_minor": 0,
  "metadata": {
    "colab": {
      "name": "dl_nlp_imdb_lstm.ipynb",
      "provenance": [],
      "include_colab_link": true
    },
    "kernelspec": {
      "name": "python3",
      "display_name": "Python 3"
    },
    "accelerator": "GPU"
  },
  "cells": [
    {
      "cell_type": "markdown",
      "metadata": {
        "id": "view-in-github",
        "colab_type": "text"
      },
      "source": [
        "<a href=\"https://colab.research.google.com/github/vasiliyeskin/2048andtodo/blob/master/text%20analysis/dl_nlp_imdb_lstm.ipynb\" target=\"_parent\"><img src=\"https://colab.research.google.com/assets/colab-badge.svg\" alt=\"Open In Colab\"/></a>"
      ]
    },
    {
      "cell_type": "markdown",
      "metadata": {
        "id": "Lv1nORvnYVQn",
        "colab_type": "text"
      },
      "source": [
        "## Определение тональности текста отзывов на фильмы IMDB с помощью сети LSTM\n",
        "\n",
        "Учебный курс \"[Нейросети для анализа текстов](https://www.asozykin.ru/courses/nnpython)\".\n",
        "\n",
        "Чтобы запускать и редактировать код, сохраните копию этого ноутбука себе (File->Save a copy in Drive...). Свою копию вы сможете изменять и запускать.\n",
        "\n",
        "Не забудьте подключить GPU, чтобы сеть обучалась быстрее (Runtime -> Change Runtime Type -> Hardware Accelerator -> GPU)."
      ]
    },
    {
      "cell_type": "code",
      "metadata": {
        "id": "lpsyhVlJX5XH",
        "colab_type": "code",
        "colab": {}
      },
      "source": [
        "%tensorflow_version 2.x\n",
        "from tensorflow.keras.datasets import imdb\n",
        "from tensorflow.keras.models import Sequential\n",
        "from tensorflow.keras.layers import Dense, Embedding, LSTM \n",
        "from tensorflow.keras import utils\n",
        "from tensorflow.keras.preprocessing.sequence import pad_sequences\n",
        "import numpy as np\n",
        "import matplotlib.pyplot as plt\n",
        "%matplotlib inline "
      ],
      "execution_count": 10,
      "outputs": []
    },
    {
      "cell_type": "markdown",
      "metadata": {
        "id": "xGDJkdINNWVh",
        "colab_type": "text"
      },
      "source": [
        "## Загружаем данные"
      ]
    },
    {
      "cell_type": "code",
      "metadata": {
        "id": "kBUUyZ4cbxoM",
        "colab_type": "code",
        "colab": {}
      },
      "source": [
        "max_words=10000"
      ],
      "execution_count": 11,
      "outputs": []
    },
    {
      "cell_type": "code",
      "metadata": {
        "id": "toRj2Xs1NZgB",
        "colab_type": "code",
        "colab": {}
      },
      "source": [
        "(x_train, y_train), (x_test, y_test) = imdb.load_data(num_words=max_words)"
      ],
      "execution_count": 12,
      "outputs": []
    },
    {
      "cell_type": "markdown",
      "metadata": {
        "id": "kiA7X0oWaS9Z",
        "colab_type": "text"
      },
      "source": [
        "## Подготовка данных для обучения"
      ]
    },
    {
      "cell_type": "code",
      "metadata": {
        "id": "PiZZxRZhMVWv",
        "colab_type": "code",
        "colab": {}
      },
      "source": [
        "maxlen = 200"
      ],
      "execution_count": 13,
      "outputs": []
    },
    {
      "cell_type": "code",
      "metadata": {
        "id": "0YrjnapvMVwf",
        "colab_type": "code",
        "colab": {}
      },
      "source": [
        "x_train = pad_sequences(x_train, maxlen=maxlen)\n",
        "x_test = pad_sequences(x_test, maxlen=maxlen)"
      ],
      "execution_count": 14,
      "outputs": []
    },
    {
      "cell_type": "code",
      "metadata": {
        "id": "SnANlxwYMcNX",
        "colab_type": "code",
        "colab": {
          "base_uri": "https://localhost:8080/",
          "height": 334
        },
        "outputId": "3a42fc3f-0ba7-4d02-a15a-cff6252d7026"
      },
      "source": [
        "x_train[5002]"
      ],
      "execution_count": 15,
      "outputs": [
        {
          "output_type": "execute_result",
          "data": {
            "text/plain": [
              "array([   0,    0,    0,    0,    0,    0,    0,    0,    0,    0,    0,\n",
              "          0,    0,    0,    0,    0,    0,    0,    0,    0,    0,    0,\n",
              "          0,    0,    0,    0,    0,    0,    0,    0,    0,    0,    0,\n",
              "          0,    0,    0,    0,    0,    0,    0,    0,    0,    0,    0,\n",
              "          0,    0,    0,    0,    0,    0,    0,    0,    0,    0,    0,\n",
              "          0,    0,    0,    0,    0,    0,    0,    0,    0,    0,    0,\n",
              "          0,    0,    0,    1,  103,   51,   13,  197,   16,    6, 4796,\n",
              "        239,    7,  107,  555,   11,  132,   39, 8921, 1872,  138,   16,\n",
              "       4093, 1768, 2959,   34, 1620,    2,   11,    4,  755,   12,   43,\n",
              "        286,    4,  172,  209,    2,    5, 5938,   17, 1000,   34, 1768,\n",
              "        279,   29, 3892,   89,  338,    4,  114,   16, 1240, 1747,  103,\n",
              "       3844, 3819,    8,  169, 2875,  112, 7062,   34,  160,  132,   29,\n",
              "        100,   24,  535,  101,  250,    8,  858,   15,  196,   19,   57,\n",
              "       3154,   39,   90,    5,   24,  169, 3533,   18,    6,  910,   20,\n",
              "         14, 1367, 3939, 1101,  935,    4,  545, 1744,  173,   54, 1240,\n",
              "       2875,    2,   56,  209,  112, 1021,   55,  835,  179,   35, 2384,\n",
              "          8,  529, 1663, 1793,    8, 1066,    7,   61,  223,  637, 1231,\n",
              "         19,    4,   86,   31,    5,  353,    8,  859,   13,  126,  219,\n",
              "          4,  755], dtype=int32)"
            ]
          },
          "metadata": {
            "tags": []
          },
          "execution_count": 15
        }
      ]
    },
    {
      "cell_type": "markdown",
      "metadata": {
        "id": "rhSLT9WjTeMk",
        "colab_type": "text"
      },
      "source": [
        "## Создание нейронной сети"
      ]
    },
    {
      "cell_type": "code",
      "metadata": {
        "id": "Lrzx1e4xTgzL",
        "colab_type": "code",
        "colab": {}
      },
      "source": [
        "model = Sequential()\n",
        "model.add(Embedding(max_words, 8, input_length=maxlen))\n",
        "model.add(LSTM(32, recurrent_dropout = 0))\n",
        "model.add(Dense(1, activation='sigmoid'))"
      ],
      "execution_count": 18,
      "outputs": []
    },
    {
      "cell_type": "code",
      "metadata": {
        "id": "u1yNam-uSunE",
        "colab_type": "code",
        "colab": {}
      },
      "source": [
        "model.compile(optimizer='adam', \n",
        "              loss='binary_crossentropy', \n",
        "              metrics=['accuracy'])"
      ],
      "execution_count": 19,
      "outputs": []
    },
    {
      "cell_type": "markdown",
      "metadata": {
        "id": "9CHZwMttYMTb",
        "colab_type": "text"
      },
      "source": [
        "## Обучаем нейронную сеть"
      ]
    },
    {
      "cell_type": "code",
      "metadata": {
        "id": "AkmNH7ahYLyc",
        "colab_type": "code",
        "colab": {
          "base_uri": "https://localhost:8080/",
          "height": 518
        },
        "outputId": "4261f78e-efca-497d-89e9-01367ede2d6d"
      },
      "source": [
        "history = model.fit(x_train, \n",
        "                    y_train, \n",
        "                    epochs=15,\n",
        "                    batch_size=128,\n",
        "                    validation_split=0.1)"
      ],
      "execution_count": 20,
      "outputs": [
        {
          "output_type": "stream",
          "text": [
            "Epoch 1/15\n",
            "176/176 [==============================] - 7s 40ms/step - loss: 0.5355 - accuracy: 0.7100 - val_loss: 0.3759 - val_accuracy: 0.8464\n",
            "Epoch 2/15\n",
            "176/176 [==============================] - 6s 36ms/step - loss: 0.2770 - accuracy: 0.8909 - val_loss: 0.3052 - val_accuracy: 0.8768\n",
            "Epoch 3/15\n",
            "176/176 [==============================] - 6s 36ms/step - loss: 0.2128 - accuracy: 0.9197 - val_loss: 0.3185 - val_accuracy: 0.8780\n",
            "Epoch 4/15\n",
            "176/176 [==============================] - 6s 36ms/step - loss: 0.1616 - accuracy: 0.9439 - val_loss: 0.3298 - val_accuracy: 0.8748\n",
            "Epoch 5/15\n",
            "176/176 [==============================] - 6s 36ms/step - loss: 0.1365 - accuracy: 0.9528 - val_loss: 0.4343 - val_accuracy: 0.8648\n",
            "Epoch 6/15\n",
            "176/176 [==============================] - 6s 36ms/step - loss: 0.1120 - accuracy: 0.9638 - val_loss: 0.4249 - val_accuracy: 0.8652\n",
            "Epoch 7/15\n",
            "176/176 [==============================] - 6s 36ms/step - loss: 0.0985 - accuracy: 0.9679 - val_loss: 0.4507 - val_accuracy: 0.8616\n",
            "Epoch 8/15\n",
            "176/176 [==============================] - 6s 36ms/step - loss: 0.0772 - accuracy: 0.9769 - val_loss: 0.4140 - val_accuracy: 0.8616\n",
            "Epoch 9/15\n",
            "176/176 [==============================] - 6s 36ms/step - loss: 0.0751 - accuracy: 0.9771 - val_loss: 0.5000 - val_accuracy: 0.8592\n",
            "Epoch 10/15\n",
            "176/176 [==============================] - 6s 36ms/step - loss: 0.0636 - accuracy: 0.9807 - val_loss: 0.5244 - val_accuracy: 0.8612\n",
            "Epoch 11/15\n",
            "176/176 [==============================] - 6s 37ms/step - loss: 0.0514 - accuracy: 0.9857 - val_loss: 0.5527 - val_accuracy: 0.8584\n",
            "Epoch 12/15\n",
            "176/176 [==============================] - 6s 36ms/step - loss: 0.0468 - accuracy: 0.9869 - val_loss: 0.6511 - val_accuracy: 0.8576\n",
            "Epoch 13/15\n",
            "176/176 [==============================] - 6s 36ms/step - loss: 0.0564 - accuracy: 0.9821 - val_loss: 0.5536 - val_accuracy: 0.8580\n",
            "Epoch 14/15\n",
            "176/176 [==============================] - 6s 36ms/step - loss: 0.0448 - accuracy: 0.9872 - val_loss: 0.6327 - val_accuracy: 0.8584\n",
            "Epoch 15/15\n",
            "176/176 [==============================] - 6s 36ms/step - loss: 0.0345 - accuracy: 0.9914 - val_loss: 0.6279 - val_accuracy: 0.8608\n"
          ],
          "name": "stdout"
        }
      ]
    },
    {
      "cell_type": "code",
      "metadata": {
        "id": "a19UCeAMDhQK",
        "colab_type": "code",
        "colab": {
          "base_uri": "https://localhost:8080/",
          "height": 280
        },
        "outputId": "23b856dc-4f2e-454f-d07d-4695b8c8d808"
      },
      "source": [
        "plt.plot(history.history['accuracy'], \n",
        "         label='Доля верных ответов на обучающем наборе')\n",
        "plt.plot(history.history['val_accuracy'], \n",
        "         label='Доля верных ответов на проверочном наборе')\n",
        "plt.xlabel('Эпоха обучения')\n",
        "plt.ylabel('Доля верных ответов')\n",
        "plt.legend()\n",
        "plt.show()"
      ],
      "execution_count": 21,
      "outputs": [
        {
          "output_type": "display_data",
          "data": {
            "image/png": "[encoded data removed]",
            "text/plain": [
              "<Figure size 432x288 with 1 Axes>"
            ]
          },
          "metadata": {
            "tags": [],
            "needs_background": "light"
          }
        }
      ]
    },
    {
      "cell_type": "markdown",
      "metadata": {
        "id": "HnnIy3JlEGqW",
        "colab_type": "text"
      },
      "source": [
        "## Проверяем работу сети на тестовом наборе данных"
      ]
    },
    {
      "cell_type": "code",
      "metadata": {
        "id": "J1_ilV14EKBO",
        "colab_type": "code",
        "colab": {
          "base_uri": "https://localhost:8080/",
          "height": 33
        },
        "outputId": "3f67670a-2f0a-4b35-c747-a707d085b810"
      },
      "source": [
        "scores = model.evaluate(x_test, y_test, verbose=1)"
      ],
      "execution_count": 22,
      "outputs": [
        {
          "output_type": "stream",
          "text": [
            "782/782 [==============================] - 10s 13ms/step - loss: 0.7118 - accuracy: 0.8405\n"
          ],
          "name": "stdout"
        }
      ]
    },
    {
      "cell_type": "markdown",
      "metadata": {
        "id": "ueXET5tXa-jB",
        "colab_type": "text"
      },
      "source": [
        "## Архитектуры нейронных сетей для анализа текстов\n",
        "\n",
        "1. [Определение тональности отзывов на фильмы из базы IMDB с помощью простых рекуррентных нейросетей](https://colab.research.google.com/drive/19RAxAnIV0fDXAcE1T23TPkzi4ZPFQXdB).\n",
        "2. [Определение тональности отзывов на фильмы из базы IMDB с помощью сетей LSTM](https://colab.research.google.com/drive/1FQjetRIkWYxmm87JKUbVSJrRS2vNLPpV).\n",
        "3. [Определение тональности отзывов на фильмы из базы IMDB с помощью сетей GRU](https://colab.research.google.com/drive/1IGJPwFkTdpbyagQ5jiIRJBA01xlfc18t)."
      ]
    }
  ]
}